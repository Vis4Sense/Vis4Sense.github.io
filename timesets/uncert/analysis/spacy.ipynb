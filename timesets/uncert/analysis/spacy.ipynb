{
 "cells": [
  {
   "cell_type": "markdown",
   "metadata": {},
   "source": [
    "# Named Entities Extraction with spacy\n",
    "*This is to explore spacy, particularly for extracting named entities in facebook dataset for TimeSets paper.*"
   ]
  },
  {
   "cell_type": "markdown",
   "metadata": {},
   "source": [
    "To install the library and the required trained models:\n",
    "\n",
    "```\n",
    "pip install spacy\n",
    "python -m spacy download en\n",
    "```"
   ]
  },
  {
   "cell_type": "code",
   "execution_count": 1,
   "metadata": {
    "collapsed": true
   },
   "outputs": [],
   "source": [
    "input_file = '../data/detailedFbData.json'\n",
    "output_file = '../data/facebook-with-themes.json'"
   ]
  },
  {
   "cell_type": "code",
   "execution_count": 2,
   "metadata": {
    "collapsed": true
   },
   "outputs": [],
   "source": [
    "import json\n",
    "import itertools\n",
    "from collections import Counter\n",
    "\n",
    "import spacy\n",
    "nlp = spacy.load('en_core_web_sm')"
   ]
  },
  {
   "cell_type": "markdown",
   "metadata": {},
   "source": [
    "## Load data"
   ]
  },
  {
   "cell_type": "code",
   "execution_count": 3,
   "metadata": {
    "collapsed": true
   },
   "outputs": [],
   "source": [
    "def extract_post(post):\n",
    "    text = post.get('message') or post.get('description') or ''\n",
    "    time = post.get('created_time')\n",
    "    return time, text\n",
    "\n",
    "def load_data(filename):\n",
    "    with open(filename) as f:\n",
    "        posts = json.load(f) # list of posts\n",
    "        return [extract_post(post) for post in posts]"
   ]
  },
  {
   "cell_type": "code",
   "execution_count": 4,
   "metadata": {},
   "outputs": [
    {
     "data": {
      "text/plain": [
       "(536,\n",
       " ('2016-09-19T03:00:51+0000',\n",
       "  'WATCH: \"JEB EXCLAMATION POINT!\" - Jeb Bush, now driving around Selina Meyer in the opening intro to the #Emmys with Jimmy Kimmel.'))"
      ]
     },
     "execution_count": 4,
     "metadata": {},
     "output_type": "execute_result"
    }
   ],
   "source": [
    "posts = load_data(input_file)\n",
    "docs = [p[1] for p in posts]\n",
    "len(posts), posts[0]"
   ]
  },
  {
   "cell_type": "markdown",
   "metadata": {},
   "source": [
    "## Extract entities"
   ]
  },
  {
   "cell_type": "code",
   "execution_count": 5,
   "metadata": {
    "collapsed": false
   },
   "outputs": [
    {
     "data": {
      "text/plain": [
       "[('PRODUCT', 'JEB EXCLAMATION'),\n",
       " ('PERSON', 'Jeb Bush'),\n",
       " ('PERSON', 'Selina Meyer'),\n",
       " ('MONEY', 'Emmys'),\n",
       " ('PERSON', 'Jimmy Kimmel'),\n",
       " ('NORP', 'Syrian'),\n",
       " ('DATE', 'today'),\n",
       " ('GPE', 'U.S'),\n",
       " ('PERSON', 'Rose Pak'),\n",
       " ('GPE', \"San Francisco's\")]"
      ]
     },
     "execution_count": 5,
     "metadata": {},
     "output_type": "execute_result"
    }
   ],
   "source": [
    "entities = [(e.label_, e.text) for e in nlp('. '.join(docs)).ents]\n",
    "entities[:10]"
   ]
  },
  {
   "cell_type": "markdown",
   "metadata": {},
   "source": [
    "### Common entities per type"
   ]
  },
  {
   "cell_type": "code",
   "execution_count": 6,
   "metadata": {
    "collapsed": false
   },
   "outputs": [
    {
     "name": "stdout",
     "output_type": "stream",
     "text": [
      "CARDINAL\n",
      "[('two', 10), ('one', 5), ('three', 3), ('5', 2), ('12', 2)]\n",
      "\n",
      "DATE\n",
      "[('2016', 12), ('today', 8), ('November', 5), ('Election Day', 4), ('this week', 4)]\n",
      "\n",
      "EVENT\n",
      "[('Twitter', 1), ('the Iraq war', 1)]\n",
      "\n",
      "FAC\n",
      "[('7:00 ET', 1), ('Strait Talk LIVE', 1), ('Billionaires', 1), ('Islam', 1), ('Gramercy Park', 1)]\n",
      "\n",
      "GPE\n",
      "[('US', 21), ('New York', 12), ('U.S.', 9), ('Charlotte', 8), ('New Jersey', 7)]\n",
      "\n",
      "LAW\n",
      "[('Constitution', 2), ('Democratic National Convention', 1), ('the Constitution', 1)]\n",
      "\n",
      "LOC\n",
      "[('Mars', 2), ('Strait Talk', 1), ('NYC', 1), ('East Aleppo', 1), ('Gulf', 1)]\n",
      "\n",
      "MONEY\n",
      "[('Debates', 6), ('AxeFiles', 3), ('MyVote', 2), ('UNGA', 2), ('Emmys', 1)]\n",
      "\n",
      "NORP\n",
      "[('Republican', 27), ('Democrats', 16), ('Americans', 10), ('American', 9), ('Republicans', 9)]\n",
      "\n",
      "ORDINAL\n",
      "[('first', 39), ('First', 3), ('second', 3), ('eighth', 3), ('third', 3)]\n",
      "\n",
      "ORG\n",
      "[('CNN', 24), ('Senate', 14), ('ABC News', 13), ('GOP', 10), (\"Trump's\", 8)]\n",
      "\n",
      "PERCENT\n",
      "[('1%', 3), ('a mere 11%', 3), ('12%', 3), ('46%-41%', 2), ('6%', 2)]\n",
      "\n",
      "PERSON\n",
      "[('Donald J. Trump', 123), ('Hillary Clinton', 88), ('Obama', 44), (\"Donald J. Trump's\", 27), ('Donald Trump', 12)]\n",
      "\n",
      "PRODUCT\n",
      "[('Accord', 2), ('JEB EXCLAMATION', 1), ('Debates', 1), ('Orcas', 1), ('Google', 1)]\n",
      "\n",
      "QUANTITY\n",
      "[('just a few feet', 1)]\n",
      "\n",
      "TIME\n",
      "[('tonight', 13), ('night', 4), ('last night', 2), ('between today and Election Day—more than $143 million—', 1), ('Monday night 9:00 ET', 1)]\n",
      "\n",
      "WORK_OF_ART\n",
      "[('Strait Talk LIVE', 1), ('“Skittles are candy; refugees are people.', 1), ('\"The West Wing\"', 1), ('http://abcn.ws/2dv2rHj #Debates.', 1), ('http://abcn.ws/2dv2rHj #Debates', 1)]\n",
      "\n"
     ]
    }
   ],
   "source": [
    "entities.sort(key=lambda x: x[0])\n",
    "for k, g in itertools.groupby(entities, lambda x: x[0]):\n",
    "    c = Counter([x[1] for x in g])\n",
    "    print(k)\n",
    "    print(c.most_common(5))\n",
    "    print()"
   ]
  },
  {
   "cell_type": "markdown",
   "metadata": {},
   "source": [
    "### Most common entities"
   ]
  },
  {
   "cell_type": "code",
   "execution_count": 7,
   "metadata": {},
   "outputs": [
    {
     "data": {
      "text/plain": [
       "[('Donald J. Trump', 123),\n",
       " ('Hillary Clinton', 88),\n",
       " ('Obama', 46),\n",
       " ('first', 39),\n",
       " ('Republican', 27),\n",
       " (\"Donald J. Trump's\", 27),\n",
       " ('CNN', 24),\n",
       " ('US', 21),\n",
       " ('Trump', 17),\n",
       " ('Democrats', 16),\n",
       " ('Senate', 14),\n",
       " ('ABC News', 13),\n",
       " ('tonight', 13),\n",
       " ('2016', 12),\n",
       " ('New York', 12),\n",
       " ('Donald Trump', 12),\n",
       " ('two', 10),\n",
       " ('Americans', 10),\n",
       " ('GOP', 10),\n",
       " ('Clinton', 10)]"
      ]
     },
     "execution_count": 7,
     "metadata": {},
     "output_type": "execute_result"
    }
   ],
   "source": [
    "c = Counter(e[1] for e in entities)\n",
    "c.most_common(20)"
   ]
  },
  {
   "cell_type": "code",
   "execution_count": 8,
   "metadata": {},
   "outputs": [
    {
     "data": {
      "text/plain": [
       "['Donald J. Trump',\n",
       " 'Hillary Clinton',\n",
       " 'Obama',\n",
       " 'first',\n",
       " 'Republican',\n",
       " \"Donald J. Trump's\",\n",
       " 'CNN',\n",
       " 'US',\n",
       " 'Trump',\n",
       " 'Democrats',\n",
       " 'Senate',\n",
       " 'ABC News',\n",
       " 'tonight',\n",
       " '2016',\n",
       " 'New York',\n",
       " 'Donald Trump',\n",
       " 'two',\n",
       " 'Americans',\n",
       " 'GOP',\n",
       " 'Clinton']"
      ]
     },
     "execution_count": 8,
     "metadata": {},
     "output_type": "execute_result"
    }
   ],
   "source": [
    "common_entities = [e[0] for e in c.most_common(20)]\n",
    "common_entities"
   ]
  },
  {
   "cell_type": "markdown",
   "metadata": {},
   "source": [
    "### Themes for TimeSets\n",
    "Some entities should be merged such as the ones about Trump."
   ]
  },
  {
   "cell_type": "code",
   "execution_count": 9,
   "metadata": {},
   "outputs": [
    {
     "name": "stdout",
     "output_type": "stream",
     "text": [
      "Donald J. Trump\n",
      "Donald J. Trump's\n",
      "Trump\n",
      "Donald Trump\n"
     ]
    }
   ],
   "source": [
    "print(common_entities[0])\n",
    "print(common_entities[5])\n",
    "print(common_entities[8])\n",
    "print(common_entities[15])"
   ]
  },
  {
   "cell_type": "markdown",
   "metadata": {},
   "source": [
    "So, I will define a theme as an array of entities that should be merged."
   ]
  },
  {
   "cell_type": "code",
   "execution_count": 10,
   "metadata": {
    "collapsed": true
   },
   "outputs": [],
   "source": [
    "s = common_entities\n",
    "theme_indices = [\n",
    "    [0, 5, 8, 15],\n",
    "    [1, 19],\n",
    "    [2],\n",
    "    [4],\n",
    "    [6],\n",
    "    [7],\n",
    "    [9],\n",
    "    [10]\n",
    "]"
   ]
  },
  {
   "cell_type": "code",
   "execution_count": 11,
   "metadata": {},
   "outputs": [
    {
     "data": {
      "text/plain": [
       "[['Donald J. Trump', \"Donald J. Trump's\", 'Trump', 'Donald Trump'],\n",
       " ['Hillary Clinton', 'Clinton'],\n",
       " ['Obama'],\n",
       " ['Republican'],\n",
       " ['CNN'],\n",
       " ['US'],\n",
       " ['Democrats'],\n",
       " ['Senate']]"
      ]
     },
     "execution_count": 11,
     "metadata": {},
     "output_type": "execute_result"
    }
   ],
   "source": [
    "themes = [[common_entities[i] for i in indices] for indices in theme_indices]\n",
    "themes"
   ]
  },
  {
   "cell_type": "code",
   "execution_count": 12,
   "metadata": {},
   "outputs": [
    {
     "data": {
      "text/plain": [
       "['Donald J. Trump',\n",
       " 'Hillary Clinton',\n",
       " 'Obama',\n",
       " 'Republican',\n",
       " 'CNN',\n",
       " 'US',\n",
       " 'Democrats',\n",
       " 'Senate']"
      ]
     },
     "execution_count": 12,
     "metadata": {},
     "output_type": "execute_result"
    }
   ],
   "source": [
    "theme_labels = [theme[0] for theme in themes]\n",
    "theme_labels"
   ]
  },
  {
   "cell_type": "markdown",
   "metadata": {},
   "source": [
    "## Export data for TimeSets\n",
    "What data format in TimeSets look like?\n",
    "```\n",
    "{\n",
    "    themes: ['theme1', 'theme2'], # array of themes, each as a text\n",
    "    events: [\n",
    "        title,\n",
    "        time,\n",
    "        content,\n",
    "        themes: [] # a subset of the above array of themes\n",
    "    ]\n",
    "}\n",
    "```"
   ]
  },
  {
   "cell_type": "code",
   "execution_count": 13,
   "metadata": {
    "collapsed": true
   },
   "outputs": [],
   "source": [
    "def get_themes(doc, themes, theme_labels):\n",
    "    entities = [(e.label_, e.text) for e in nlp(doc).ents]\n",
    "    entities = [e[1] for e in entities]\n",
    "    \n",
    "    doc_theme_labels = []\n",
    "    for i, theme in enumerate(themes):\n",
    "        if any(e in theme for e in entities): # Check if the document's entities contain any themes\n",
    "            doc_theme_labels.append(theme_labels[i])\n",
    "            \n",
    "    return doc_theme_labels\n",
    "\n",
    "def get_first_sentence(doc):\n",
    "    sents = list(nlp(doc).sents)\n",
    "    return str(sents[0]) if sents else doc\n",
    "\n",
    "def format_data(post, themes, theme_labels):\n",
    "    doc = post[1]\n",
    "    \n",
    "    return {\n",
    "        'time': post[0],\n",
    "        'title': get_first_sentence(doc),\n",
    "        'content': doc,\n",
    "        'themes': get_themes(doc, themes, theme_labels)\n",
    "    }"
   ]
  },
  {
   "cell_type": "code",
   "execution_count": 14,
   "metadata": {},
   "outputs": [
    {
     "data": {
      "text/plain": [
       "{'content': 'WATCH: \"JEB EXCLAMATION POINT!\" - Jeb Bush, now driving around Selina Meyer in the opening intro to the #Emmys with Jimmy Kimmel.',\n",
       " 'themes': [],\n",
       " 'time': '2016-09-19T03:00:51+0000',\n",
       " 'title': 'WATCH: \"JEB EXCLAMATION POINT!\"'}"
      ]
     },
     "execution_count": 14,
     "metadata": {},
     "output_type": "execute_result"
    }
   ],
   "source": [
    "events = [format_data(post, themes, theme_labels) for post in posts]\n",
    "events[0]"
   ]
  },
  {
   "cell_type": "code",
   "execution_count": 21,
   "metadata": {
    "collapsed": true
   },
   "outputs": [],
   "source": [
    "data = {\n",
    "    'themes': theme_labels,\n",
    "    'events': [e for e in events if e['themes']]\n",
    "}\n",
    "\n",
    "with open(output_file, 'w') as f:\n",
    "    json.dump(data, f)"
   ]
  }
 ],
 "metadata": {
  "kernelspec": {
   "display_name": "Python 3",
   "language": "python",
   "name": "python3"
  },
  "language_info": {
   "codemirror_mode": {
    "name": "ipython",
    "version": 3
   },
   "file_extension": ".py",
   "mimetype": "text/x-python",
   "name": "python",
   "nbconvert_exporter": "python",
   "pygments_lexer": "ipython3",
   "version": "3.6.3"
  },
  "toc": {
   "base_numbering": 1,
   "nav_menu": {},
   "number_sections": true,
   "sideBar": true,
   "skip_h1_title": true,
   "title_cell": "Contents",
   "title_sidebar": "Contents",
   "toc_cell": false,
   "toc_position": {},
   "toc_section_display": true,
   "toc_window_display": true
  }
 },
 "nbformat": 4,
 "nbformat_minor": 2
}
