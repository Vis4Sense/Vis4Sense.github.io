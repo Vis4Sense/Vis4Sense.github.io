{
 "cells": [
  {
   "cell_type": "markdown",
   "metadata": {},
   "source": [
    "# Topic Modelling for TimeSets\n",
    "*Apply LDA to find topics in the CIA leak case.*"
   ]
  },
  {
   "cell_type": "code",
   "execution_count": 19,
   "metadata": {
    "collapsed": true
   },
   "outputs": [],
   "source": [
    "load_existing_model = False\n",
    "input_file = '../data/cialeakcase.json'\n",
    "model_path = 'lda_models/cia-8-topics'"
   ]
  },
  {
   "cell_type": "code",
   "execution_count": 20,
   "metadata": {
    "collapsed": true
   },
   "outputs": [],
   "source": [
    "import json\n",
    "\n",
    "import pandas as pd\n",
    "pd.set_option('display.max_colwidth', 1000)\n",
    "\n",
    "from gensim.models.ldamodel import LdaModel\n",
    "from gensim import corpora\n",
    "from gensim.models import Phrases\n",
    "from gensim.models.phrases import Phraser\n",
    "\n",
    "from nltk.corpus import stopwords \n",
    "from nltk.stem.wordnet import WordNetLemmatizer\n",
    "import string\n",
    "\n",
    "from collections import Counter\n",
    "from itertools import chain"
   ]
  },
  {
   "cell_type": "markdown",
   "metadata": {},
   "source": [
    "## Data Preprocessing\n",
    "#### Load data"
   ]
  },
  {
   "cell_type": "code",
   "execution_count": 21,
   "metadata": {
    "collapsed": true
   },
   "outputs": [],
   "source": [
    "def extract_text(e):\n",
    "    return e.get('title', '') + '. ' + e.get('content', '')\n",
    "\n",
    "def load_data(filename):\n",
    "    with open(filename) as f:\n",
    "        events = json.load(f)['events']\n",
    "        return [extract_text(e) for e in events]"
   ]
  },
  {
   "cell_type": "code",
   "execution_count": 22,
   "metadata": {},
   "outputs": [
    {
     "data": {
      "text/plain": [
       "(50,\n",
       " 'Wilson\\'s factfinding mission to Niger. Former ambassador Joseph C. Wilson travels to Niger at the CIA\\'s request to check for evidence that Iraq bought uranium \"yellowcake\" from the African country that could be used for production of a nuclear weapon.')"
      ]
     },
     "execution_count": 22,
     "metadata": {},
     "output_type": "execute_result"
    }
   ],
   "source": [
    "raw_docs = load_data(input_file)\n",
    "len(raw_docs), raw_docs[0]"
   ]
  },
  {
   "cell_type": "markdown",
   "metadata": {},
   "source": [
    "#### Clean the data"
   ]
  },
  {
   "cell_type": "code",
   "execution_count": 23,
   "metadata": {
    "collapsed": true
   },
   "outputs": [],
   "source": [
    "def clean(doc, stop, exclude, lemma):\n",
    "    stop_free = ' '.join(w for w in doc.lower().split() if w not in stop)\n",
    "    punc_free = ''.join(c for c in stop_free if c not in exclude)\n",
    "    normalized = [lemma.lemmatize(w) for w in punc_free.split() if len(w) > 2]\n",
    "    return normalized\n",
    "\n",
    "def preprocess(docs):\n",
    "    'Return a list of words for each preprocessed document.'\n",
    "    stop = set(stopwords.words('english'))\n",
    "    exclude = set(string.punctuation) \n",
    "    lemma = WordNetLemmatizer()\n",
    "    return [clean(doc, stop, exclude, lemma) for doc in docs]"
   ]
  },
  {
   "cell_type": "code",
   "execution_count": 24,
   "metadata": {},
   "outputs": [
    {
     "data": {
      "text/plain": [
       "['wilson',\n",
       " 'factfinding',\n",
       " 'mission',\n",
       " 'niger',\n",
       " 'former',\n",
       " 'ambassador',\n",
       " 'joseph',\n",
       " 'wilson',\n",
       " 'travel',\n",
       " 'niger',\n",
       " 'cia',\n",
       " 'request',\n",
       " 'check',\n",
       " 'evidence',\n",
       " 'iraq',\n",
       " 'bought',\n",
       " 'uranium',\n",
       " 'yellowcake',\n",
       " 'african',\n",
       " 'country',\n",
       " 'could',\n",
       " 'used',\n",
       " 'production',\n",
       " 'nuclear',\n",
       " 'weapon']"
      ]
     },
     "execution_count": 24,
     "metadata": {},
     "output_type": "execute_result"
    }
   ],
   "source": [
    "docs = preprocess(raw_docs)\n",
    "docs[0]"
   ]
  },
  {
   "cell_type": "markdown",
   "metadata": {},
   "source": [
    "#### Look at word frequency"
   ]
  },
  {
   "cell_type": "code",
   "execution_count": 25,
   "metadata": {
    "collapsed": true
   },
   "outputs": [],
   "source": [
    "def get_most_common_terms(docs):\n",
    "    counter = Counter(chain.from_iterable(docs))\n",
    "    total_count = sum(counter.values())\n",
    "    return [(w, c, c / total_count) for w, c in counter.most_common(10)]"
   ]
  },
  {
   "cell_type": "code",
   "execution_count": 26,
   "metadata": {},
   "outputs": [
    {
     "data": {
      "text/plain": [
       "[('rove', 29, 0.022053231939163497),\n",
       " ('libby', 29, 0.022053231939163497),\n",
       " ('cooper', 23, 0.01749049429657795),\n",
       " ('jury', 23, 0.01749049429657795),\n",
       " ('time', 19, 0.014448669201520912),\n",
       " ('source', 19, 0.014448669201520912),\n",
       " ('grand', 19, 0.014448669201520912),\n",
       " ('president', 17, 0.012927756653992395),\n",
       " ('miller', 16, 0.012167300380228136),\n",
       " ('wilson', 15, 0.011406844106463879)]"
      ]
     },
     "execution_count": 26,
     "metadata": {},
     "output_type": "execute_result"
    }
   ],
   "source": [
    "get_most_common_terms(docs)"
   ]
  },
  {
   "cell_type": "markdown",
   "metadata": {},
   "source": [
    "There are no particular highly-frequent words, so no need to exclude any words."
   ]
  },
  {
   "cell_type": "markdown",
   "metadata": {},
   "source": [
    "## Topic Modelling"
   ]
  },
  {
   "cell_type": "markdown",
   "metadata": {},
   "source": [
    "#### Find common bigrams"
   ]
  },
  {
   "cell_type": "code",
   "execution_count": 27,
   "metadata": {
    "collapsed": true
   },
   "outputs": [],
   "source": [
    "def get_phrases(bigram_model, docs):\n",
    "    phrase_dict = {phrase:score for phrase, score in bigram_model.export_phrases(docs)}\n",
    "    return sorted(phrase_dict.items(), key=lambda x: -x[1])"
   ]
  },
  {
   "cell_type": "code",
   "execution_count": 30,
   "metadata": {},
   "outputs": [
    {
     "data": {
      "text/plain": [
       "[(b'white house', 71.85798816568048),\n",
       " (b'grand jury', 48.631578947368425),\n",
       " (b'new york', 36.14285714285714),\n",
       " (b'confidential source', 22.82706766917293),\n",
       " (b'judith miller', 15.8125)]"
      ]
     },
     "execution_count": 30,
     "metadata": {},
     "output_type": "execute_result"
    }
   ],
   "source": [
    "bigram_model = Phrases(docs, min_count=5)\n",
    "get_phrases(bigram_model, docs)"
   ]
  },
  {
   "cell_type": "markdown",
   "metadata": {},
   "source": [
    "#### Use bigrams to find topics"
   ]
  },
  {
   "cell_type": "code",
   "execution_count": 31,
   "metadata": {
    "collapsed": true
   },
   "outputs": [],
   "source": [
    "bigram_phraser = Phraser(bigram_model)\n",
    "bigram_docs = [bigram_phraser[doc] for doc in docs]"
   ]
  },
  {
   "cell_type": "code",
   "execution_count": 32,
   "metadata": {},
   "outputs": [
    {
     "data": {
      "text/plain": [
       "[('rove', 29, 0.022943037974683545),\n",
       " ('libby', 29, 0.022943037974683545),\n",
       " ('cooper', 23, 0.01819620253164557),\n",
       " ('time', 19, 0.015031645569620253),\n",
       " ('grand_jury', 19, 0.015031645569620253),\n",
       " ('president', 17, 0.013449367088607595),\n",
       " ('wilson', 15, 0.011867088607594937),\n",
       " ('white_house', 13, 0.010284810126582278),\n",
       " ('say', 13, 0.010284810126582278),\n",
       " ('source', 12, 0.00949367088607595)]"
      ]
     },
     "execution_count": 32,
     "metadata": {},
     "output_type": "execute_result"
    }
   ],
   "source": [
    "get_most_common_terms(bigram_docs)"
   ]
  },
  {
   "cell_type": "code",
   "execution_count": 42,
   "metadata": {
    "collapsed": true
   },
   "outputs": [],
   "source": [
    "def build_lda(docs, num_topics=10, passes=10, alpha='symmetric', eta=None):\n",
    "    \"Return an LDA model from the given list of documents.\"\n",
    "    dictionary = corpora.Dictionary(docs)\n",
    "    doc_term_matrix = [dictionary.doc2bow(doc) for doc in docs]    \n",
    "    return LdaModel(doc_term_matrix, num_topics=num_topics, id2word=dictionary, passes=passes, alpha=alpha, eta=eta, random_state=0)\n",
    "\n",
    "def get_topics(lda):\n",
    "    return [[(lda.id2word[t], float(format(p, '.2f'))) for t, p in lda.get_topic_terms(i, topn=5)] for i in range(lda.num_topics)]"
   ]
  },
  {
   "cell_type": "code",
   "execution_count": 63,
   "metadata": {
    "scrolled": true
   },
   "outputs": [
    {
     "data": {
      "text/plain": [
       "[[('wilson', 0.06),\n",
       "  ('rove', 0.05),\n",
       "  ('cheney', 0.04),\n",
       "  ('joe', 0.04),\n",
       "  ('time', 0.03)],\n",
       " [('grand_jury', 0.04),\n",
       "  ('rove', 0.03),\n",
       "  ('time', 0.03),\n",
       "  ('cooper', 0.02),\n",
       "  ('libby', 0.02)],\n",
       " [('libby', 0.05),\n",
       "  ('president', 0.03),\n",
       "  ('bush', 0.02),\n",
       "  ('white_house', 0.02),\n",
       "  ('prison', 0.02)],\n",
       " [('rove', 0.06),\n",
       "  ('libby', 0.04),\n",
       "  ('source', 0.03),\n",
       "  ('mcclellan', 0.03),\n",
       "  ('say', 0.02)],\n",
       " [('testifies', 0.22),\n",
       "  ('grand_jury', 0.2),\n",
       "  ('federal', 0.16),\n",
       "  ('gonzales', 0.11),\n",
       "  ('white_house', 0.06)],\n",
       " [('wilson', 0.03),\n",
       "  ('plame', 0.02),\n",
       "  ('column', 0.02),\n",
       "  ('africa', 0.02),\n",
       "  ('official', 0.02)],\n",
       " [('cooper', 0.04),\n",
       "  ('confidential_source', 0.03),\n",
       "  ('jail', 0.02),\n",
       "  ('judge', 0.02),\n",
       "  ('miller', 0.02)],\n",
       " [('cooper', 0.1),\n",
       "  ('plames', 0.05),\n",
       "  ('rove', 0.05),\n",
       "  ('identity', 0.04),\n",
       "  ('source', 0.04)]]"
      ]
     },
     "execution_count": 63,
     "metadata": {},
     "output_type": "execute_result"
    }
   ],
   "source": [
    "if load_existing_model:\n",
    "    lda = LdaModel.load(model_path)\n",
    "else:\n",
    "    lda = build_lda(bigram_docs, num_topics=8, passes=20, alpha=0.5, eta=0.005)\n",
    "    lda.save(model_path)\n",
    "get_topics(lda)"
   ]
  },
  {
   "cell_type": "markdown",
   "metadata": {},
   "source": [
    "#### Examine words in each topic and assign label"
   ]
  },
  {
   "cell_type": "code",
   "execution_count": 43,
   "metadata": {
    "collapsed": true
   },
   "outputs": [],
   "source": [
    "def print_topic_terms(lda):\n",
    "    return [', '.join(lda.id2word[t] for t, p in lda.get_topic_terms(i, topn=5)) for i in range(lda.num_topics)]"
   ]
  },
  {
   "cell_type": "code",
   "execution_count": 81,
   "metadata": {},
   "outputs": [
    {
     "data": {
      "text/plain": [
       "['rove, mcclellan, white_house, administration, official',\n",
       " 'wilson, time, rove, cooper, grand_jury',\n",
       " 'libby, president, bush, state, white_house',\n",
       " 'libby, rove, source, say, plame',\n",
       " 'grand_jury, federal, testifies, gonzales, counsel',\n",
       " 'plame, wilson, column, woodward, published',\n",
       " 'cooper, confidential_source, judge, jail, miller',\n",
       " 'cooper, plames, rove, source, identity']"
      ]
     },
     "execution_count": 81,
     "metadata": {},
     "output_type": "execute_result"
    }
   ],
   "source": [
    "print_topic_terms(lda)"
   ]
  },
  {
   "cell_type": "code",
   "execution_count": 82,
   "metadata": {
    "collapsed": true
   },
   "outputs": [],
   "source": [
    "topic_labels = [\n",
    "    'white house',\n",
    "    'wilson',\n",
    "    'libby-bush',\n",
    "    'libby-rove',\n",
    "    'jury-testify',\n",
    "    'plame-column',\n",
    "    'courts-judges',\n",
    "    'rove-source'\n",
    "]"
   ]
  },
  {
   "cell_type": "markdown",
   "metadata": {},
   "source": [
    "#### Examine documents with their topics"
   ]
  },
  {
   "cell_type": "code",
   "execution_count": 83,
   "metadata": {
    "collapsed": true
   },
   "outputs": [],
   "source": [
    "def get_document_topics(lda, dictionary, doc):\n",
    "    return lda.get_document_topics(dictionary.doc2bow(doc), minimum_probability=0.1)"
   ]
  },
  {
   "cell_type": "code",
   "execution_count": 84,
   "metadata": {
    "collapsed": true
   },
   "outputs": [],
   "source": [
    "dictionary = corpora.Dictionary(docs)"
   ]
  },
  {
   "cell_type": "code",
   "execution_count": 85,
   "metadata": {},
   "outputs": [
    {
     "name": "stdout",
     "output_type": "stream",
     "text": [
      "Wilson's factfinding mission to Niger. Former ambassador Joseph C. Wilson travels to Niger at the CIA's request to check for evidence that Iraq bought uranium \"yellowcake\" from the African country that could be used for production of a nuclear weapon. [(1, 'wilson', '0.87')]\n",
      "\n",
      "Bush's State of the Union with \"16 words\". President Bush delivers his State of the Union address.   In the speech he includes the following sentence: \"The British government has learned that Saddam Hussein recently sought significant quantities of uranium from Africa.\" Those 16 words contradicted what Wilson had reported upon his return from Niger to check out the claim. Months later they would be retracted by the White House. [(2, 'libby-bush', '0.35'), (5, 'plame-column', '0.48')]\n",
      "\n",
      "Kristof's NYT Column disputes accuracy of 16 words. The New York Times publishes a column by Nicholas Kristof disputing the accuracy of the 16 words in the president's State of the Union address. The column reports that, following up on a request from the vice president's office, an unnamed ambassador investigated the allegations regarding Iraq's efforts to buy uranium from Niger. Kristoff writes that in early 2002, the ambassador had reported to the CIA and State Department that the allegations were unequivocally wrong. [(6, 'courts-judges', '0.87')]\n",
      "\n",
      "Wilson's \"What I didn't find in Africa\" published in NYT. Wilson's op-ed column, \"What I Didn't Find in Africa,\" is published in The New York Times. In it he concludes, \"some of the intelligence related to Iraq's nuclear weapons program was twisted to exaggerate the Iraqi threat.\" [(5, 'plame-column', '0.71'), (6, 'courts-judges', '0.12')]\n",
      "\n",
      "Air Force One, Briefing Book. President Bush boards Air Force One at Andrews Air Force Base outside Washington en route to Dakar, Senegal. It is the start of a weeklong tour of the continent that become overshadowed by questions about alleged Iraqi WMD. Also onboard is a top-secret briefing book containing a memo prepared by the State Department identifying Valerie Wilson (Plame's married name) as a CIA officer and as the wife of former Ambassador Joseph Wilson. [(2, 'libby-bush', '0.91')]\n",
      "\n",
      "White House comments on the State of the Union address. Speaking to a White House press pool in Pretoria, South Africa, the second stop on the president's Africa tour, Press Secretary Ari Fleischer says the State of the Union address should not have included the reference to Iraqi attempts to acquire uranium from Niger. Fleischer says: \"With the advantage of hindsight, it's known now what was not known by the White House prior to the speech. This information should not have risen to the level of a presidential speech.\" [(2, 'libby-bush', '0.83')]\n",
      "\n",
      "Novak's Column \"outs\" Plame. Robert Novak, in his syndicated commentary, reveals that Wilson's wife, Valerie Plame, is a CIA operative. Novak attributes the information to \"two senior administration officials.\" [(2, 'libby-bush', '0.12'), (5, 'plame-column', '0.64'), (7, 'rove-source', '0.10')]\n",
      "\n",
      "Time: government officials had disclosed Plame's identity. Time magazine publishes an online article by Matthew Cooper, Massimo Calabresi, and John F. Dickerson indicating that government officials had disclosed Plame's identity to them [(6, 'courts-judges', '0.13'), (7, 'rove-source', '0.60')]\n",
      "\n",
      "McClellan: \"...not the way this president or this White House operates.\". At a White House news briefing, McClellan, when asked about the administration leaking Plame's name, states: \"That is not the way this president or this White House operates.\" [(2, 'libby-bush', '0.60'), (6, 'courts-judges', '0.16')]\n",
      "\n",
      "Cheney: \"No. I don't know Joe Wilson\". Vice President Cheney, on NBC's Meet the Press, is asked if he had been briefed on Wilson's findings when Wilson returned from Niger. Cheney responds: \"No. I don't know Joe Wilson. I've never met Joe Wilson.\"   Cheney adds moments later, \"I don't know who sent Joe Wilson. He never submitted a report that I ever saw when he came back. [(1, 'wilson', '0.84')]\n",
      "\n"
     ]
    }
   ],
   "source": [
    "for i in range(10):\n",
    "    topics = get_document_topics(lda, dictionary, docs[i])\n",
    "    print(raw_docs[i], [(t, topic_labels[t], format(p, '.2f')) for t, p in topics])\n",
    "    print()"
   ]
  },
  {
   "cell_type": "markdown",
   "metadata": {},
   "source": [
    "---\n",
    "Get back to fb dataset\n",
    "- POS noun only\n",
    "- frequency per document\n",
    "- remove both highly frequent and infrequent terms"
   ]
  }
 ],
 "metadata": {
  "kernelspec": {
   "display_name": "Python 3",
   "language": "python",
   "name": "python3"
  },
  "language_info": {
   "codemirror_mode": {
    "name": "ipython",
    "version": 3
   },
   "file_extension": ".py",
   "mimetype": "text/x-python",
   "name": "python",
   "nbconvert_exporter": "python",
   "pygments_lexer": "ipython3",
   "version": "3.6.3"
  }
 },
 "nbformat": 4,
 "nbformat_minor": 2
}
