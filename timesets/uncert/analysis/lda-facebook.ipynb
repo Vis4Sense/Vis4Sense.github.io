{
 "cells": [
  {
   "cell_type": "markdown",
   "metadata": {},
   "source": [
    "# Topic Modelling for TimeSets\n",
    "*Apply LDA to find topics in the facebook dataset.*"
   ]
  },
  {
   "cell_type": "code",
   "execution_count": 19,
   "metadata": {
    "collapsed": true
   },
   "outputs": [],
   "source": [
    "load_existing_model = False\n",
    "input_file = '../data/detailedFbData.json'\n",
    "model_path = 'lda_models/fb-8-topics'"
   ]
  },
  {
   "cell_type": "code",
   "execution_count": 20,
   "metadata": {
    "collapsed": true
   },
   "outputs": [],
   "source": [
    "import json\n",
    "\n",
    "import pandas as pd\n",
    "pd.set_option('display.max_colwidth', 1000)\n",
    "\n",
    "from gensim.models.ldamodel import LdaModel\n",
    "from gensim import corpora\n",
    "from gensim.models import Phrases\n",
    "from gensim.models.phrases import Phraser\n",
    "\n",
    "from nltk.corpus import stopwords \n",
    "from nltk.stem.wordnet import WordNetLemmatizer\n",
    "import string\n",
    "\n",
    "from collections import Counter\n",
    "from itertools import chain"
   ]
  },
  {
   "cell_type": "markdown",
   "metadata": {},
   "source": [
    "## Data Preprocessing\n",
    "#### Load data"
   ]
  },
  {
   "cell_type": "code",
   "execution_count": 21,
   "metadata": {
    "collapsed": true
   },
   "outputs": [],
   "source": [
    "def extract_text(post):\n",
    "    return post.get('message') or post.get('description') or ''\n",
    "\n",
    "def load_data(filename):\n",
    "    with open(filename) as f:\n",
    "        posts = json.load(f) # list of posts\n",
    "        return [extract_text(post) for post in posts]"
   ]
  },
  {
   "cell_type": "code",
   "execution_count": 22,
   "metadata": {},
   "outputs": [
    {
     "data": {
      "text/plain": [
       "(536,\n",
       " 'WATCH: \"JEB EXCLAMATION POINT!\" - Jeb Bush, now driving around Selina Meyer in the opening intro to the #Emmys with Jimmy Kimmel.')"
      ]
     },
     "execution_count": 22,
     "metadata": {},
     "output_type": "execute_result"
    }
   ],
   "source": [
    "raw_docs = load_data(input_file)\n",
    "len(raw_docs), raw_docs[0]"
   ]
  },
  {
   "cell_type": "markdown",
   "metadata": {},
   "source": [
    "#### Clean the data"
   ]
  },
  {
   "cell_type": "code",
   "execution_count": 24,
   "metadata": {
    "collapsed": true
   },
   "outputs": [],
   "source": [
    "def clean(doc, stop, exclude, lemma):\n",
    "    stop_free = ' '.join(w for w in doc.lower().split() if w not in stop)\n",
    "    punc_free = ''.join(c for c in stop_free if c not in exclude)\n",
    "    normalized = [lemma.lemmatize(w) for w in punc_free.split() if len(w) > 2]\n",
    "    return normalized\n",
    "\n",
    "def preprocess(docs):\n",
    "    'Return a list of words for each preprocessed document.'\n",
    "    stop = set(stopwords.words('english'))\n",
    "    exclude = set(string.punctuation) \n",
    "    lemma = WordNetLemmatizer()\n",
    "    return [clean(doc, stop, exclude, lemma) for doc in docs]"
   ]
  },
  {
   "cell_type": "code",
   "execution_count": 25,
   "metadata": {},
   "outputs": [
    {
     "data": {
      "text/plain": [
       "['watch',\n",
       " 'jeb',\n",
       " 'exclamation',\n",
       " 'point',\n",
       " 'jeb',\n",
       " 'bush',\n",
       " 'driving',\n",
       " 'around',\n",
       " 'selina',\n",
       " 'meyer',\n",
       " 'opening',\n",
       " 'intro',\n",
       " 'emmy',\n",
       " 'jimmy',\n",
       " 'kimmel']"
      ]
     },
     "execution_count": 25,
     "metadata": {},
     "output_type": "execute_result"
    }
   ],
   "source": [
    "docs = preprocess(raw_docs)\n",
    "docs[0]"
   ]
  },
  {
   "cell_type": "markdown",
   "metadata": {},
   "source": [
    "#### Look at word frequency"
   ]
  },
  {
   "cell_type": "code",
   "execution_count": 7,
   "metadata": {
    "collapsed": true
   },
   "outputs": [],
   "source": [
    "def get_most_common_terms(docs):\n",
    "    counter = Counter(chain.from_iterable(docs))\n",
    "    total_count = sum(counter.values())\n",
    "    return [(w, c, c / total_count) for w, c in counter.most_common(10)]"
   ]
  },
  {
   "cell_type": "code",
   "execution_count": 8,
   "metadata": {},
   "outputs": [
    {
     "data": {
      "text/plain": [
       "[('trump', 205, 0.027777777777777776),\n",
       " ('donald', 169, 0.022899728997289974),\n",
       " ('clinton', 113, 0.015311653116531165),\n",
       " ('hillary', 98, 0.013279132791327914),\n",
       " ('say', 81, 0.01097560975609756),\n",
       " ('president', 76, 0.010298102981029811),\n",
       " ('debate', 74, 0.01002710027100271),\n",
       " ('presidential', 58, 0.007859078590785908),\n",
       " ('obama', 50, 0.006775067750677507),\n",
       " ('first', 45, 0.006097560975609756)]"
      ]
     },
     "execution_count": 8,
     "metadata": {},
     "output_type": "execute_result"
    }
   ],
   "source": [
    "get_most_common_terms(docs)"
   ]
  },
  {
   "cell_type": "markdown",
   "metadata": {},
   "source": [
    "#### The dataset seems about debate between Donald Trump and Hillary Clinton, so it's safe to remove those top four words and other presidential related one."
   ]
  },
  {
   "cell_type": "code",
   "execution_count": 9,
   "metadata": {
    "collapsed": true
   },
   "outputs": [],
   "source": [
    "def remove_high_frequency_words(docs, excluded_words):\n",
    "    return [[w for w in doc if w not in excluded_words] for doc in docs]"
   ]
  },
  {
   "cell_type": "code",
   "execution_count": 10,
   "metadata": {},
   "outputs": [
    {
     "data": {
      "text/plain": [
       "[('say', 81, 0.012160336285842966),\n",
       " ('debate', 74, 0.011109443026572586),\n",
       " ('obama', 50, 0.007506380423359856),\n",
       " ('first', 45, 0.00675574238102387),\n",
       " ('new', 43, 0.006455487164089476),\n",
       " ('republican', 37, 0.005554721513286293),\n",
       " ('campaign', 35, 0.005254466296351899),\n",
       " ('election', 28, 0.00420357303708152),\n",
       " ('news', 26, 0.003903317820147125),\n",
       " ('people', 26, 0.003903317820147125)]"
      ]
     },
     "execution_count": 10,
     "metadata": {},
     "output_type": "execute_result"
    }
   ],
   "source": [
    "excluded_words = frozenset(['trump', 'donald', 'clinton', 'hillary', 'president', 'presidential'])\n",
    "filtered_docs = remove_high_frequency_words(docs, excluded_words)\n",
    "get_most_common_terms(filtered_docs)"
   ]
  },
  {
   "cell_type": "markdown",
   "metadata": {},
   "source": [
    "## Topic Modelling"
   ]
  },
  {
   "cell_type": "markdown",
   "metadata": {},
   "source": [
    "#### Find common bigrams"
   ]
  },
  {
   "cell_type": "code",
   "execution_count": 11,
   "metadata": {
    "collapsed": true
   },
   "outputs": [],
   "source": [
    "def get_phrases(bigram_model, docs):\n",
    "    phrase_dict = {phrase:score for phrase, score in bigram_model.export_phrases(docs)}\n",
    "    return sorted(phrase_dict.items(), key=lambda x: -x[1])"
   ]
  },
  {
   "cell_type": "code",
   "execution_count": 12,
   "metadata": {},
   "outputs": [
    {
     "data": {
      "text/plain": [
       "[(b'abc news', 230.53846153846155),\n",
       " (b'occupy democrat', 208.9411764705882),\n",
       " (b'north carolina', 166.5),\n",
       " (b'new york', 139.3953488372093),\n",
       " (b'like page', 106.91638795986621),\n",
       " (b'fighting isi', 95.14285714285714),\n",
       " (b'white house', 91.441647597254),\n",
       " (b'republican nominee', 86.4),\n",
       " (b'united nation', 61.47692307692308),\n",
       " (b'new jersey', 53.10299003322259),\n",
       " (b'police shooting', 42.7379679144385),\n",
       " (b'first debate', 38.4),\n",
       " (b'michelle obama', 26.639999999999997),\n",
       " (b'election day', 17.83928571428571)]"
      ]
     },
     "execution_count": 12,
     "metadata": {},
     "output_type": "execute_result"
    }
   ],
   "source": [
    "bigram_model = Phrases(filtered_docs, min_count=5)\n",
    "get_phrases(bigram_model, filtered_docs)"
   ]
  },
  {
   "cell_type": "markdown",
   "metadata": {},
   "source": [
    "#### Use bigrams to find topics"
   ]
  },
  {
   "cell_type": "code",
   "execution_count": 13,
   "metadata": {
    "collapsed": true
   },
   "outputs": [],
   "source": [
    "bigram_phraser = Phraser(bigram_model)\n",
    "bigram_docs = [bigram_phraser[doc] for doc in filtered_docs]"
   ]
  },
  {
   "cell_type": "code",
   "execution_count": 14,
   "metadata": {},
   "outputs": [
    {
     "data": {
      "text/plain": [
       "[('say', 81, 0.012430939226519336),\n",
       " ('debate', 53, 0.008133824432166974),\n",
       " ('obama', 44, 0.006752608962553714),\n",
       " ('campaign', 35, 0.005371393492940454),\n",
       " ('people', 26, 0.003990178023327195),\n",
       " ('first', 24, 0.003683241252302026),\n",
       " ('would', 24, 0.003683241252302026),\n",
       " ('american', 24, 0.003683241252302026),\n",
       " ('state', 24, 0.003683241252302026),\n",
       " ('republican', 24, 0.003683241252302026)]"
      ]
     },
     "execution_count": 14,
     "metadata": {},
     "output_type": "execute_result"
    }
   ],
   "source": [
    "get_most_common_terms(bigram_docs)"
   ]
  },
  {
   "cell_type": "code",
   "execution_count": 15,
   "metadata": {
    "collapsed": true
   },
   "outputs": [],
   "source": [
    "def build_lda(docs, num_topics=10, passes=10, alpha='symmetric', eta=None):\n",
    "    \"Return an LDA model from the given list of documents.\"\n",
    "    dictionary = corpora.Dictionary(docs)\n",
    "    doc_term_matrix = [dictionary.doc2bow(doc) for doc in docs]    \n",
    "    return LdaModel(doc_term_matrix, num_topics=num_topics, id2word=dictionary, passes=passes, alpha=alpha, eta=eta, random_state=0)\n",
    "\n",
    "def get_topics(lda):\n",
    "    return [[(lda.id2word[t], float(format(p, '.2f'))) for t, p in lda.get_topic_terms(i)] for i in range(lda.num_topics)]"
   ]
  },
  {
   "cell_type": "code",
   "execution_count": 18,
   "metadata": {
    "scrolled": true
   },
   "outputs": [
    {
     "data": {
      "text/plain": [
       "[[('say', 0.01),\n",
       "  ('great', 0.01),\n",
       "  ('debate', 0.01),\n",
       "  ('republican', 0.01),\n",
       "  ('first_debate', 0.01),\n",
       "  ('week', 0.01),\n",
       "  ('race', 0.01),\n",
       "  ('city', 0.01),\n",
       "  ('campaign', 0.01),\n",
       "  ('advantage', 0.01)],\n",
       " [('obama', 0.01),\n",
       "  ('like', 0.01),\n",
       "  ('people', 0.01),\n",
       "  ('say', 0.01),\n",
       "  ('really', 0.01),\n",
       "  ('win', 0.01),\n",
       "  ('come', 0.01),\n",
       "  ('refugee', 0.01),\n",
       "  ('back', 0.0),\n",
       "  ('world', 0.0)],\n",
       " [('debate', 0.01),\n",
       "  ('there', 0.01),\n",
       "  ('say', 0.01),\n",
       "  ('obama', 0.01),\n",
       "  ('voter', 0.0),\n",
       "  ('people', 0.0),\n",
       "  ('war', 0.0),\n",
       "  ('candidate', 0.0),\n",
       "  ('national', 0.0),\n",
       "  ('tell', 0.0)],\n",
       " [('obama', 0.01),\n",
       "  ('debate', 0.01),\n",
       "  ('tonight', 0.01),\n",
       "  ('live', 0.01),\n",
       "  ('host', 0.0),\n",
       "  ('detroit', 0.0),\n",
       "  ('one', 0.0),\n",
       "  ('special', 0.0),\n",
       "  ('chris', 0.0),\n",
       "  ('american', 0.0)],\n",
       " [('say', 0.01),\n",
       "  ('would', 0.01),\n",
       "  ('first_debate', 0.01),\n",
       "  ('election', 0.01),\n",
       "  ('take', 0.01),\n",
       "  ('new_york', 0.01),\n",
       "  ('first', 0.01),\n",
       "  ('going', 0.01),\n",
       "  ('people', 0.0),\n",
       "  ('debate', 0.0)],\n",
       " [('support', 0.01),\n",
       "  ('question', 0.01),\n",
       "  ('say', 0.01),\n",
       "  ('republican_nominee', 0.01),\n",
       "  ('new', 0.01),\n",
       "  ('obama', 0.0),\n",
       "  ('more', 0.0),\n",
       "  ('debate', 0.0),\n",
       "  ('congress', 0.0),\n",
       "  ('former', 0.0)],\n",
       " [('say', 0.01),\n",
       "  ('campaign', 0.01),\n",
       "  ('state', 0.01),\n",
       "  ('man', 0.01),\n",
       "  ('white', 0.01),\n",
       "  ('were', 0.01),\n",
       "  ('national', 0.01),\n",
       "  ('latest', 0.01),\n",
       "  ('debate', 0.0),\n",
       "  ('occupy_democrat', 0.0)],\n",
       " [('say', 0.02),\n",
       "  ('cnn', 0.01),\n",
       "  ('obama', 0.01),\n",
       "  ('ever', 0.01),\n",
       "  ('republican', 0.01),\n",
       "  ('night', 0.0),\n",
       "  ('black', 0.0),\n",
       "  ('need', 0.0),\n",
       "  ('national', 0.0),\n",
       "  ('director', 0.0)]]"
      ]
     },
     "execution_count": 18,
     "metadata": {},
     "output_type": "execute_result"
    }
   ],
   "source": [
    "if load_existing_model:\n",
    "    lda = LdaModel.load(model_path)\n",
    "else:\n",
    "    lda = build_lda(bigram_docs, num_topics=8, passes=20)\n",
    "    lda.save(model_path)\n",
    "get_topics(lda)"
   ]
  },
  {
   "cell_type": "markdown",
   "metadata": {},
   "source": [
    "#### Examine words in each topic and assign label"
   ]
  },
  {
   "cell_type": "code",
   "execution_count": 16,
   "metadata": {
    "collapsed": true
   },
   "outputs": [],
   "source": [
    "def print_topic_terms(lda):\n",
    "    return [', '.join(lda.id2word[t] for t, p in lda.get_topic_terms(i)) for i in range(lda.num_topics)]"
   ]
  },
  {
   "cell_type": "code",
   "execution_count": 17,
   "metadata": {},
   "outputs": [
    {
     "data": {
      "text/plain": [
       "['week, live, republican, american, attack, question, host, time, tonight, detroit',\n",
       " 'former, debate, national, republican, bush, excited, according, race, voter, first',\n",
       " 'obama, more, occupy_democrat, like_page, new_york, country, city, people, show, cnn',\n",
       " 'debate, national, election, republican_nominee, harry, reid, campaign, leader, year, senate',\n",
       " 'people, obama, debate, could, war, state, one, like, woman, going',\n",
       " 'likely, great, political, obama, were, american, johnson, need, saying, black',\n",
       " 'obama, campaign, people, take, question, know, election, first, ever, new',\n",
       " 'debate, tell, two, former, one, face, gop, bill, get, campaign']"
      ]
     },
     "execution_count": 17,
     "metadata": {},
     "output_type": "execute_result"
    }
   ],
   "source": [
    "print_topic_terms(lda)"
   ]
  },
  {
   "cell_type": "code",
   "execution_count": 19,
   "metadata": {
    "collapsed": true
   },
   "outputs": [],
   "source": [
    "topic_labels = [\n",
    "    'republican live tonight',\n",
    "    'former bush excited debate',\n",
    "    'obama occupy_democrat',\n",
    "    'debate republican_nominee',\n",
    "    'obama war woman',\n",
    "    'obama johnson black',\n",
    "    'obama firt ever',\n",
    "    'debate former bill cliton'\n",
    "]"
   ]
  },
  {
   "cell_type": "markdown",
   "metadata": {},
   "source": [
    "#### Examine documents with their topics"
   ]
  },
  {
   "cell_type": "code",
   "execution_count": 31,
   "metadata": {
    "collapsed": true
   },
   "outputs": [],
   "source": [
    "def get_document_topics(lda, dictionary, doc):\n",
    "    return lda.get_document_topics(dictionary.doc2bow(doc), minimum_probability=0.1)"
   ]
  },
  {
   "cell_type": "code",
   "execution_count": 20,
   "metadata": {
    "collapsed": true
   },
   "outputs": [],
   "source": [
    "dictionary = corpora.Dictionary(filtered_docs)"
   ]
  },
  {
   "cell_type": "code",
   "execution_count": 40,
   "metadata": {},
   "outputs": [
    {
     "name": "stdout",
     "output_type": "stream",
     "text": [
      "WATCH: \"JEB EXCLAMATION POINT!\" - Jeb Bush, now driving around Selina Meyer in the opening intro to the #Emmys with Jimmy Kimmel. [(2, 'obama occupy_democrat', '0.95')]\n",
      "\n",
      "The Syrian military declared today that the U.S.-Russia brokered cease-fire is over, blaming rebel groups for violating the agreement. [(6, 'obama firt ever', '0.94')]\n",
      "\n",
      "Rose Pak, an influential community activist who turned San Francisco's Asian-American population into a political power in the city, passes away at 68. [(2, 'obama occupy_democrat', '0.95')]\n",
      "\n",
      "Pres. Barack Obama awards the 2015 National Medal of Arts and National Humanities Medal to distinguished recipients. The winners include Morgan Freeman, Audra McDonald and Mel Brooks. [(2, 'obama occupy_democrat', '0.96')]\n",
      "\n",
      "Warplanes target the besieged Syrian city of Aleppo for the first time since the ceasefire went into effect last week. [(0, 'republican live tonight', '0.94')]\n",
      "\n",
      "Using Skittles to make a point about “our Syrian refugee problem” didn’t go over too well with Mars, Incorporated—but the candy maker’s rebuke of Donald Trump Jr..’s controversial tweet is hardly a first. [(4, 'obama war woman', '0.96')]\n",
      "\n",
      "Rep. Elijah Cummings criticizes Mylan CEO Heather Bresch during a congressional hearing over the drastic rise in the cost of EpiPens: \"After Mylan takes our punches, they will fly back to their mansions in their private jets and laugh all the way to the bank while our constituents suffer, file for bankruptcy, and watch their children get sicker, and in some cases die.\" [(3, 'debate republican_nominee', '0.98')]\n",
      "\n",
      "We’re live with the new Librarian of Congress, Carla Hayden, who is the first African-American and first woman to hold the position. Ask your questions below! [(6, 'obama firt ever', '0.95')]\n",
      "\n",
      "BREAKING: Man believed to be person wanted in connection with NY and NJ bombings taken into custody, sources say. [(0, 'republican live tonight', '0.11'), (1, 'former bush excited debate', '0.83')]\n",
      "\n",
      "JUST IN: U.S. Federal Reserve maintains current interest rate level, but signals a rate hike is coming soon http://abcn.ws/2d9mPgr [(3, 'debate republican_nominee', '0.94')]\n",
      "\n"
     ]
    }
   ],
   "source": [
    "for i in range(10):\n",
    "    topics = get_document_topics(lda, dictionary, filtered_docs[i])\n",
    "    print(raw_docs[i], [(t, topic_labels[t], format(p, '.2f')) for t, p in topics])\n",
    "    print()"
   ]
  }
 ],
 "metadata": {
  "kernelspec": {
   "display_name": "Python 3",
   "language": "python",
   "name": "python3"
  },
  "language_info": {
   "codemirror_mode": {
    "name": "ipython",
    "version": 3
   },
   "file_extension": ".py",
   "mimetype": "text/x-python",
   "name": "python",
   "nbconvert_exporter": "python",
   "pygments_lexer": "ipython3",
   "version": "3.6.3"
  }
 },
 "nbformat": 4,
 "nbformat_minor": 2
}
